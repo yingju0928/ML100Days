{
 "cells": [
  {
   "cell_type": "code",
   "execution_count": null,
   "metadata": {},
   "outputs": [],
   "source": [
    "1.專案的目標？ (要解決什麼問題）\n",
    "E-textile Microinteractions\n",
    "結合織物和柔性電子技術，用不同的手勢(拉，拍，旋轉...等)透過特殊處理的紡織品，來操作電子設備\n",
    "        \n",
    "        \n",
    "2.使用的技術是？ (只需知道名稱即可，例如：使用 CNN 卷積神經網路做影像分類)\n",
    " machine learning (ML) combined with an interactive textile topology enables parallel use of discrete and continuous gestures\n",
    " Helical Sensing Matrix (HSM)\n",
    "\n",
    "3.資料來源？\n",
    "google AI blog\n",
    "          \n",
    "          "
   ]
  }
 ],
 "metadata": {
  "kernelspec": {
   "display_name": "Python 3",
   "language": "python",
   "name": "python3"
  },
  "language_info": {
   "codemirror_mode": {
    "name": "ipython",
    "version": 3
   },
   "file_extension": ".py",
   "mimetype": "text/x-python",
   "name": "python",
   "nbconvert_exporter": "python",
   "pygments_lexer": "ipython3",
   "version": "3.7.4"
  }
 },
 "nbformat": 4,
 "nbformat_minor": 2
}
