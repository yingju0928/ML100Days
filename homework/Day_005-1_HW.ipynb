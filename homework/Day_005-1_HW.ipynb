{
 "cells": [
  {
   "cell_type": "markdown",
   "metadata": {},
   "source": [
    "# [作業目標]\n",
    "- 利用範例的創建方式, 創建一組資料, 並練習如何取出最大值"
   ]
  },
  {
   "cell_type": "markdown",
   "metadata": {},
   "source": [
    "# [作業重點]\n",
    "- 練習創立 DataFrame (In[2])\n",
    "- 如何取出口數最多的國家 (In[3], Out[3])"
   ]
  },
  {
   "cell_type": "markdown",
   "metadata": {},
   "source": [
    "## 練習時間\n",
    "在小量的資料上，我們用眼睛就可以看得出來程式碼是否有跑出我們理想中的結果\n",
    "\n",
    "請嘗試想像一個你需要的資料結構 (裡面的值可以是隨機的)，然後用上述的方法把它變成 pandas DataFrame\n",
    "\n",
    "#### Ex: 想像一個 dataframe 有兩個欄位，一個是國家，一個是人口，求人口數最多的國家\n",
    "\n",
    "### Hints: [隨機產生數值](https://blog.csdn.net/christianashannon/article/details/78867204)"
   ]
  },
  {
   "cell_type": "code",
   "execution_count": 12,
   "metadata": {},
   "outputs": [],
   "source": [
    "import pandas as pd\n",
    "import numpy as np\n",
    "import random"
   ]
  },
  {
   "cell_type": "code",
   "execution_count": 44,
   "metadata": {},
   "outputs": [
    {
     "name": "stdout",
     "output_type": "stream",
     "text": [
      "       國家       人口\n",
      "0  Taiwan     1622\n",
      "1      UA      680\n",
      "2   China    80270\n",
      "3   Japen  9431655\n",
      "\n",
      "人口最多國家         UA\n",
      "人口    9431655\n",
      "dtype: object\n",
      "\n",
      "人口最少國家    China\n",
      "人口      680\n",
      "dtype: object\n",
      "\n",
      "平均人口    2378556.75\n",
      "dtype: float64\n",
      "\n",
      "標準差人口    4.702213e+06\n",
      "dtype: float64\n"
     ]
    }
   ],
   "source": [
    "data = {'國家':[\"Taiwan\",\"UA\",\"China\",\"Japen\"],\n",
    "        '人口':[random.randint(1000,10000),random.randint(100,1000),random.randint(1000,100000),random.randint(10000,10000000)] }\n",
    "data = pd.DataFrame(data)\n",
    "\n",
    "\n",
    "print(data)\n",
    "print(f\"\\n人口最多{data.max()}\")\n",
    "print(f\"\\n人口最少{data.min()}\")\n",
    "print(f\"\\n平均{data.mean()}\")\n",
    "print(f\"\\n標準差{data.std()}\")\n"
   ]
  },
  {
   "cell_type": "code",
   "execution_count": null,
   "metadata": {
    "collapsed": true
   },
   "outputs": [],
   "source": []
  }
 ],
 "metadata": {
  "kernelspec": {
   "display_name": "Python 3",
   "language": "python",
   "name": "python3"
  },
  "language_info": {
   "codemirror_mode": {
    "name": "ipython",
    "version": 3
   },
   "file_extension": ".py",
   "mimetype": "text/x-python",
   "name": "python",
   "nbconvert_exporter": "python",
   "pygments_lexer": "ipython3",
   "version": "3.7.4"
  }
 },
 "nbformat": 4,
 "nbformat_minor": 2
}
